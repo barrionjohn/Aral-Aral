{
 "cells": [
  {
   "cell_type": "markdown",
   "metadata": {
    "colab_type": "text",
    "id": "YZYMC3-Rd3sS"
   },
   "source": [
    "# Statistics: The science of changing your mind under uncertainty"
   ]
  },
  {
   "cell_type": "markdown",
   "metadata": {
    "colab_type": "text",
    "id": "N1rl8WA_d3sU"
   },
   "source": [
    "At the end of this activity, you should be able to:\n",
    "\n",
    "- Describe data using measure of dispersion\n",
    "- Estimate uncertainty using standard error\n",
    "- Make decision using test statistic and p-value"
   ]
  },
  {
   "cell_type": "markdown",
   "metadata": {
    "ExecuteTime": {
     "end_time": "2019-09-08T03:11:49.965709Z",
     "start_time": "2019-09-08T03:11:49.952911Z"
    },
    "colab_type": "text",
    "id": "fr5KtxPId3sV"
   },
   "source": [
    "## Describe data"
   ]
  },
  {
   "cell_type": "markdown",
   "metadata": {
    "colab_type": "text",
    "id": "5O-jhlFDd3sW"
   },
   "source": [
    "<div class=\"alert-danger\">\n",
    "\n",
    "### Measure of dispersion\n",
    "\n",
    "You are conducting a research on seaweeds and you received a sample size from its population. The weight measurement is given in grams:\n",
    "\n",
    "```python\n",
    "[24, 62, 93, 40, 90, 40, 91, 83, 85, 73, 10,  7, 55, 91, 24, 25,  2, 28, 94,  7]\n",
    "```\n",
    "\n",
    "What is the sample variance of their weight?\n",
    "</div>"
   ]
  },
  {
   "cell_type": "code",
   "execution_count": 1,
   "metadata": {
    "ExecuteTime": {
     "end_time": "2019-09-09T14:30:53.043802Z",
     "start_time": "2019-09-09T14:30:53.036631Z"
    },
    "colab": {},
    "colab_type": "code",
    "id": "onwbVE-Td3sX"
   },
   "outputs": [
    {
     "name": "stdout",
     "output_type": "stream",
     "text": [
      "Variance via Numpy: 1157.5368421052633\n",
      "Variance via Formula: 1157.5368421052633\n"
     ]
    }
   ],
   "source": [
    "# PLACE ANSWER HERE\n",
    "# From numpy: \n",
    "import numpy as np\n",
    "sw = [24, 62, 93, 40, 90, 40, 91, 83, 85, 73, 10,  7, 55, 91, 24, 25,  2, 28, 94,  7]\n",
    "print('Variance via Numpy: ' + str(np.var(sw, ddof = 1)))\n",
    "# Manual/Formula:\n",
    "sumsq = 0.0\n",
    "for i in sw:\n",
    "    sumsq += ((i - (sum(sw)/len(sw)))**2)\n",
    "print('Variance via Formula: ' + str(sumsq/(len(sw) - 1)))"
   ]
  },
  {
   "cell_type": "markdown",
   "metadata": {
    "colab_type": "text",
    "id": "_xOna95Td3sd"
   },
   "source": [
    "## Estimate uncertainty"
   ]
  },
  {
   "cell_type": "markdown",
   "metadata": {
    "colab_type": "text",
    "id": "FxqFXXVed3se"
   },
   "source": [
    "<div class=\"alert-danger\">\n",
    "\n",
    "### Standard error\n",
    "\n",
    "Your data science team decided to reduce the sample size of seaweeds from 1000 to 30.\n",
    "What would happen to the standard error if sample proportion is 0.85?\n",
    "\n",
    "</div>"
   ]
  },
  {
   "cell_type": "code",
   "execution_count": 2,
   "metadata": {
    "ExecuteTime": {
     "end_time": "2019-09-09T14:34:05.720297Z",
     "start_time": "2019-09-09T14:34:05.708502Z"
    },
    "colab": {},
    "colab_type": "code",
    "id": "dS9Q2zDKd3sf"
   },
   "outputs": [
    {
     "name": "stdout",
     "output_type": "stream",
     "text": [
      "Reducing the sample size of seaweeds from 1000 to 30 given a sample proportion of 0.85\n",
      "increased the standard error from 0.011291589790636216 to 0.0651920240520265.\n"
     ]
    }
   ],
   "source": [
    "# PLACE ANSWER HERE\n",
    "sp = 0.85\n",
    "a = (sp*(1-sp)/1000)**(1/2)\n",
    "b = (sp*(1-sp)/30)**(1/2)\n",
    "print('Reducing the sample size of seaweeds from 1000 to 30 given a sample proportion of 0.85')\n",
    "print('increased the standard error from ' + str(a) + ' to ' + str(b) + '.' if b > a else 'decreased the standard error from ' + str(a) + 'to' + str(b) + '.')"
   ]
  },
  {
   "cell_type": "markdown",
   "metadata": {
    "colab_type": "text",
    "id": "A040d-Sxd3si"
   },
   "source": [
    "## Make decision"
   ]
  },
  {
   "cell_type": "markdown",
   "metadata": {
    "colab_type": "text",
    "id": "SzBLWEDpd3sj"
   },
   "source": [
    "<div class=\"alert-danger\">\n",
    "\n",
    "### Statistical hypothesis\n",
    "\n",
    "The weight of 100 samples of seaweed generated a mean of 23.43 grams and a \n",
    "standard deviation of 14.59 grams. The minimum weight is 1.00 gram and \n",
    "the maximum weight is 49.00 grams. The population mean is 18.23 grams.\n",
    "What is your conclusion based from the test statistic and p-value?\n",
    "</div>"
   ]
  },
  {
   "cell_type": "code",
   "execution_count": 3,
   "metadata": {
    "colab": {},
    "colab_type": "code",
    "id": "zINaWgJhd3sk"
   },
   "outputs": [
    {
     "name": "stdout",
     "output_type": "stream",
     "text": [
      "Null Hypothesis: Mean weight of seaweed = 18.23 grams\n",
      "Alternative Hypothesis: Mean weight of seaweed != 18.23 grams\n",
      "Assume 𝝰 = 0.05.\n",
      "Using t test, the t-statistic is 3.564084989718985.\n",
      "From the t table (dof = 99), the above t-statistic would yield a p-value < 0.01.\n",
      "Since the p-value is less than the assumed significance level, 𝝰 = 0.05,\n",
      "the null hypothesis is rejected and we conclude that the mean seaweed weight != 18.23 grams.\n"
     ]
    }
   ],
   "source": [
    "# PLACE ANSWER HERE\n",
    "print('Null Hypothesis: Mean weight of seaweed = 18.23 grams')\n",
    "print('Alternative Hypothesis: Mean weight of seaweed != 18.23 grams')\n",
    "print('Assume 𝝰 = 0.05.')\n",
    "t = (23.43 - 18.23)/(14.59/(100**(1/2)))\n",
    "print('Using t test, the t-statistic is ' + str(t) + '.')\n",
    "print('From the t table (dof = 99), the above t-statistic would yield a p-value < 0.01.')\n",
    "print('Since the p-value is less than the assumed significance level, 𝝰 = 0.05,')\n",
    "print('the null hypothesis is rejected and we conclude that the mean seaweed weight != 18.23 grams.')"
   ]
  },
  {
   "cell_type": "code",
   "execution_count": null,
   "metadata": {},
   "outputs": [],
   "source": []
  }
 ],
 "metadata": {
  "colab": {
   "name": "Aral-Aral_Week_0602_Stats.ipynb",
   "provenance": [],
   "version": "0.3.2"
  },
  "kernelspec": {
   "display_name": "Python",
   "language": "python",
   "name": "conda-env-python-py"
  },
  "language_info": {
   "codemirror_mode": {
    "name": "ipython",
    "version": 3
   },
   "file_extension": ".py",
   "mimetype": "text/x-python",
   "name": "python",
   "nbconvert_exporter": "python",
   "pygments_lexer": "ipython3",
   "version": "3.6.7"
  },
  "latex_envs": {
   "LaTeX_envs_menu_present": true,
   "autoclose": false,
   "autocomplete": true,
   "bibliofile": "biblio.bib",
   "cite_by": "apalike",
   "current_citInitial": 1,
   "eqLabelWithNumbers": true,
   "eqNumInitial": 1,
   "hotkeys": {
    "equation": "Ctrl-E",
    "itemize": "Ctrl-I"
   },
   "labels_anchors": false,
   "latex_user_defs": false,
   "report_style_numbering": false,
   "user_envs_cfg": false
  },
  "toc": {
   "base_numbering": 1,
   "nav_menu": {},
   "number_sections": true,
   "sideBar": true,
   "skip_h1_title": false,
   "title_cell": "Table of Contents",
   "title_sidebar": "Contents",
   "toc_cell": false,
   "toc_position": {
    "height": "calc(100% - 180px)",
    "left": "10px",
    "top": "150px",
    "width": "194.188px"
   },
   "toc_section_display": true,
   "toc_window_display": false
  },
  "varInspector": {
   "cols": {
    "lenName": 16,
    "lenType": 16,
    "lenVar": 40
   },
   "kernels_config": {
    "python": {
     "delete_cmd_postfix": "",
     "delete_cmd_prefix": "del ",
     "library": "var_list.py",
     "varRefreshCmd": "print(var_dic_list())"
    },
    "r": {
     "delete_cmd_postfix": ") ",
     "delete_cmd_prefix": "rm(",
     "library": "var_list.r",
     "varRefreshCmd": "cat(var_dic_list()) "
    }
   },
   "types_to_exclude": [
    "module",
    "function",
    "builtin_function_or_method",
    "instance",
    "_Feature"
   ],
   "window_display": false
  }
 },
 "nbformat": 4,
 "nbformat_minor": 4
}
