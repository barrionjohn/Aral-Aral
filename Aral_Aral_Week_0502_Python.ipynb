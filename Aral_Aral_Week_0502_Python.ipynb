{
 "cells": [
  {
   "cell_type": "markdown",
   "metadata": {
    "colab_type": "text",
    "id": "WIA6TsoO0JXu"
   },
   "source": [
    "# Aral-Aral Week 5 Day 2: Python\n",
    "\n",
    "**Direction:**\n",
    "\n",
    "Provide each cell with Python code that best satisfies the instruction before it."
   ]
  },
  {
   "cell_type": "markdown",
   "metadata": {
    "colab_type": "text",
    "id": "H7Hzicjq0JXw"
   },
   "source": [
    "## Numerical Data"
   ]
  },
  {
   "cell_type": "markdown",
   "metadata": {
    "colab_type": "text",
    "id": "Nibl3s0K0JXy"
   },
   "source": [
    "```python\n",
    "# 1. Declare a statement to import NumPy.\n",
    "```"
   ]
  },
  {
   "cell_type": "code",
   "execution_count": 1,
   "metadata": {
    "ExecuteTime": {
     "end_time": "2019-09-02T20:18:09.999845Z",
     "start_time": "2019-09-02T20:18:09.995888Z"
    },
    "colab": {},
    "colab_type": "code",
    "id": "8ruiJWWu0JXz"
   },
   "outputs": [],
   "source": [
    "import numpy as np"
   ]
  },
  {
   "cell_type": "markdown",
   "metadata": {
    "colab_type": "text",
    "id": "rsA74Sag0JX4"
   },
   "source": [
    "```python\n",
    "# 2. Create a Numpy array named `foo` as 10-integer array filled with zeros.\n",
    "```"
   ]
  },
  {
   "cell_type": "code",
   "execution_count": 2,
   "metadata": {
    "ExecuteTime": {
     "end_time": "2019-09-02T20:27:18.262253Z",
     "start_time": "2019-09-02T20:27:18.256485Z"
    },
    "colab": {},
    "colab_type": "code",
    "id": "j03vbPRB0JX5"
   },
   "outputs": [
    {
     "data": {
      "text/plain": [
       "array([0, 0, 0, 0, 0, 0, 0, 0, 0, 0])"
      ]
     },
     "execution_count": 2,
     "metadata": {},
     "output_type": "execute_result"
    }
   ],
   "source": [
    "# TYPE ANSWER HERE\n",
    "foo = np.array([0, 0, 0, 0, 0, 0, 0, 0, 0, 0])\n",
    "foo"
   ]
  },
  {
   "cell_type": "markdown",
   "metadata": {
    "colab_type": "text",
    "id": "kSBP43Qf0JX9"
   },
   "source": [
    "```python\n",
    "# 3. Create a Numpy array named `bar` with 5 values evenly spaced between 0 and 1.\n",
    "```"
   ]
  },
  {
   "cell_type": "code",
   "execution_count": 3,
   "metadata": {
    "ExecuteTime": {
     "end_time": "2019-09-02T20:27:13.533922Z",
     "start_time": "2019-09-02T20:27:13.526651Z"
    },
    "colab": {},
    "colab_type": "code",
    "id": "07vEjJdm0JX-"
   },
   "outputs": [
    {
     "data": {
      "text/plain": [
       "array([0.  , 0.25, 0.5 , 0.75, 1.  ])"
      ]
     },
     "execution_count": 3,
     "metadata": {},
     "output_type": "execute_result"
    }
   ],
   "source": [
    "# TYPE ANSWER HERE\n",
    "bar = np.linspace(0, 1, num=5)\n",
    "bar"
   ]
  },
  {
   "cell_type": "markdown",
   "metadata": {
    "colab_type": "text",
    "id": "9n9ufbtU0JYC"
   },
   "source": [
    "## Data Manipulation"
   ]
  },
  {
   "cell_type": "markdown",
   "metadata": {
    "colab_type": "text",
    "id": "TvezZ7l80JYE"
   },
   "source": [
    "```python\n",
    "# 4. Declare a statement to import Pandas.\n",
    "```"
   ]
  },
  {
   "cell_type": "code",
   "execution_count": 4,
   "metadata": {
    "ExecuteTime": {
     "end_time": "2019-09-02T20:18:18.115113Z",
     "start_time": "2019-09-02T20:18:18.106239Z"
    },
    "colab": {},
    "colab_type": "code",
    "id": "bKFANeNt0JYF"
   },
   "outputs": [],
   "source": [
    "# TYPE ANSWER HERE\n",
    "import pandas as pd"
   ]
  },
  {
   "cell_type": "markdown",
   "metadata": {
    "colab_type": "text",
    "id": "hrTMVXZB0JYI"
   },
   "source": [
    "```python\n",
    "    # 5. Create a Pandas series named `baz` as an indexed data from `bar`.\n",
    "```"
   ]
  },
  {
   "cell_type": "code",
   "execution_count": 5,
   "metadata": {
    "ExecuteTime": {
     "end_time": "2019-09-02T20:28:07.933033Z",
     "start_time": "2019-09-02T20:28:07.924599Z"
    },
    "colab": {},
    "colab_type": "code",
    "id": "irIYaoXH0JYJ"
   },
   "outputs": [
    {
     "data": {
      "text/plain": [
       "0    0.00\n",
       "1    0.25\n",
       "2    0.50\n",
       "3    0.75\n",
       "4    1.00\n",
       "dtype: float64"
      ]
     },
     "execution_count": 5,
     "metadata": {},
     "output_type": "execute_result"
    }
   ],
   "source": [
    "# TYPE ANSWER HERE\n",
    "baz = pd.Series(bar)\n",
    "baz"
   ]
  },
  {
   "cell_type": "markdown",
   "metadata": {
    "colab_type": "text",
    "id": "TbgBZK0w0JYN"
   },
   "source": [
    "```python\n",
    "# 6. Declare a statement to retrieve 0.75 from `baz` using index.\n",
    "```"
   ]
  },
  {
   "cell_type": "code",
   "execution_count": 6,
   "metadata": {
    "ExecuteTime": {
     "end_time": "2019-09-02T20:28:36.693444Z",
     "start_time": "2019-09-02T20:28:36.676133Z"
    },
    "colab": {},
    "colab_type": "code",
    "id": "HMjfuMKn0JYO"
   },
   "outputs": [
    {
     "data": {
      "text/plain": [
       "0.75"
      ]
     },
     "execution_count": 6,
     "metadata": {},
     "output_type": "execute_result"
    }
   ],
   "source": [
    "# TYPE ANSWER HERE\n",
    "baz[3]"
   ]
  },
  {
   "cell_type": "markdown",
   "metadata": {
    "colab_type": "text",
    "id": "gQXP9hjH0JYT"
   },
   "source": [
    "## Visualization"
   ]
  },
  {
   "cell_type": "markdown",
   "metadata": {
    "colab_type": "text",
    "id": "XPai7Kfz0JYX"
   },
   "source": [
    "```python\n",
    "# 1. Declare a statement to import Matplotlib.pyplot.\n",
    "```"
   ]
  },
  {
   "cell_type": "code",
   "execution_count": 7,
   "metadata": {
    "ExecuteTime": {
     "end_time": "2019-09-02T20:30:41.709270Z",
     "start_time": "2019-09-02T20:30:41.491600Z"
    },
    "colab": {},
    "colab_type": "code",
    "id": "mDUYXP6d0JYY"
   },
   "outputs": [],
   "source": [
    "# TYPE ANSWER HERE\n",
    "import matplotlib.pyplot as plt\n",
    "%matplotlib inline"
   ]
  },
  {
   "cell_type": "markdown",
   "metadata": {
    "colab_type": "text",
    "id": "HqrCcyZG0JYc"
   },
   "source": [
    "```python\n",
    "# 7. Plot `baz` as a bar graph.\n",
    "```\n"
   ]
  },
  {
   "cell_type": "code",
   "execution_count": 8,
   "metadata": {
    "ExecuteTime": {
     "end_time": "2019-09-02T20:37:11.968892Z",
     "start_time": "2019-09-02T20:37:11.713413Z"
    },
    "colab": {},
    "colab_type": "code",
    "id": "VzU9P9lZ0JYd"
   },
   "outputs": [
    {
     "data": {
      "image/png": "[encoded data removed]",
      "text/plain": [
       "<Figure size 432x288 with 1 Axes>"
      ]
     },
     "metadata": {
      "needs_background": "light"
     },
     "output_type": "display_data"
    }
   ],
   "source": [
    "# TYPE ANSWER HERE\n",
    "labels = []\n",
    "for i in range(len(baz)):\n",
    "    labels.append(\"Value \" + str(i + 1))\n",
    "plt.bar(labels, baz)\n",
    "plt.title('Bar Graph of baz')\n",
    "plt.show()"
   ]
  },
  {
   "cell_type": "markdown",
   "metadata": {
    "colab_type": "text",
    "id": "nm7GG8iS0JYk"
   },
   "source": [
    "```python\n",
    "# 8. Plot `baz` as a line graph.\n",
    "```\n"
   ]
  },
  {
   "cell_type": "code",
   "execution_count": 9,
   "metadata": {
    "ExecuteTime": {
     "end_time": "2019-09-02T20:37:18.616637Z",
     "start_time": "2019-09-02T20:37:18.321492Z"
    },
    "colab": {},
    "colab_type": "code",
    "id": "6TCW9ojR0JYm"
   },
   "outputs": [
    {
     "data": {
      "image/png": "[encoded data removed]",
      "text/plain": [
       "<Figure size 432x288 with 1 Axes>"
      ]
     },
     "metadata": {
      "needs_background": "light"
     },
     "output_type": "display_data"
    }
   ],
   "source": [
    "# TYPE ANSWER HERE\n",
    "plt.plot(labels, baz)\n",
    "plt.title('Line Graph of baz')\n",
    "plt.show()"
   ]
  },
  {
   "cell_type": "markdown",
   "metadata": {
    "colab_type": "text",
    "id": "qvRv_8_20JYq"
   },
   "source": [
    "```python\n",
    "# 9. Plot `baz` as a box-and-whiskers diagram.\n",
    "```"
   ]
  },
  {
   "cell_type": "code",
   "execution_count": 10,
   "metadata": {
    "ExecuteTime": {
     "end_time": "2019-09-02T20:37:26.277576Z",
     "start_time": "2019-09-02T20:37:26.056904Z"
    },
    "colab": {},
    "colab_type": "code",
    "id": "wglAzpfv0JYr"
   },
   "outputs": [
    {
     "data": {
      "image/png": "[encoded data removed]",
      "text/plain": [
       "<Figure size 432x288 with 1 Axes>"
      ]
     },
     "metadata": {
      "needs_background": "light"
     },
     "output_type": "display_data"
    }
   ],
   "source": [
    "# TYPE ANSWER HERE\n",
    "plt.boxplot(baz)\n",
    "plt.title('Box-and-whiskers Diagram of baz')\n",
    "plt.show()"
   ]
  },
  {
   "cell_type": "code",
   "execution_count": null,
   "metadata": {},
   "outputs": [],
   "source": []
  }
 ],
 "metadata": {
  "colab": {
   "name": "Aral-Aral_Week_0502_Python.ipynb",
   "provenance": [],
   "version": "0.3.2"
  },
  "kernelspec": {
   "display_name": "Python",
   "language": "python",
   "name": "conda-env-python-py"
  },
  "language_info": {
   "codemirror_mode": {
    "name": "ipython",
    "version": 3
   },
   "file_extension": ".py",
   "mimetype": "text/x-python",
   "name": "python",
   "nbconvert_exporter": "python",
   "pygments_lexer": "ipython3",
   "version": "3.6.7"
  },
  "latex_envs": {
   "LaTeX_envs_menu_present": true,
   "autoclose": false,
   "autocomplete": true,
   "bibliofile": "biblio.bib",
   "cite_by": "apalike",
   "current_citInitial": 1,
   "eqLabelWithNumbers": true,
   "eqNumInitial": 1,
   "hotkeys": {
    "equation": "Ctrl-E",
    "itemize": "Ctrl-I"
   },
   "labels_anchors": false,
   "latex_user_defs": false,
   "report_style_numbering": false,
   "user_envs_cfg": false
  },
  "toc": {
   "base_numbering": 1,
   "nav_menu": {},
   "number_sections": true,
   "sideBar": true,
   "skip_h1_title": false,
   "title_cell": "Table of Contents",
   "title_sidebar": "Contents",
   "toc_cell": false,
   "toc_position": {},
   "toc_section_display": true,
   "toc_window_display": false
  },
  "varInspector": {
   "cols": {
    "lenName": 16,
    "lenType": 16,
    "lenVar": 40
   },
   "kernels_config": {
    "python": {
     "delete_cmd_postfix": "",
     "delete_cmd_prefix": "del ",
     "library": "var_list.py",
     "varRefreshCmd": "print(var_dic_list())"
    },
    "r": {
     "delete_cmd_postfix": ") ",
     "delete_cmd_prefix": "rm(",
     "library": "var_list.r",
     "varRefreshCmd": "cat(var_dic_list()) "
    }
   },
   "types_to_exclude": [
    "module",
    "function",
    "builtin_function_or_method",
    "instance",
    "_Feature"
   ],
   "window_display": false
  }
 },
 "nbformat": 4,
 "nbformat_minor": 4
}
