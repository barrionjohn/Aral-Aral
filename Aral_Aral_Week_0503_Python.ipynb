{
 "cells": [
  {
   "cell_type": "markdown",
   "metadata": {
    "colab_type": "text",
    "id": "fMkaZkn_FAP6"
   },
   "source": [
    "# Aral-Aral Week 5 Day 3: Python\n",
    "\n",
    "**Direction**\n",
    "\n",
    "Provide each cell with Python code that best satisfies the instruction before it."
   ]
  },
  {
   "cell_type": "markdown",
   "metadata": {
    "colab_type": "text",
    "id": "MxHHZ0KcFAP9"
   },
   "source": [
    "## Numerical Data"
   ]
  },
  {
   "cell_type": "markdown",
   "metadata": {
    "colab_type": "text",
    "id": "lbjVqCMKFAP-"
   },
   "source": [
    "```python\n",
    "# 1. Declare statements to import NumPy, Pandas, and Matplotlib.pyplot.\n",
    "```"
   ]
  },
  {
   "cell_type": "code",
   "execution_count": 1,
   "metadata": {
    "ExecuteTime": {
     "end_time": "2019-09-03T16:26:47.190923Z",
     "start_time": "2019-09-03T16:26:46.662153Z"
    },
    "colab": {},
    "colab_type": "code",
    "id": "daTQKzToFAQB"
   },
   "outputs": [],
   "source": [
    "# TYPE ANSWER HERE\n",
    "import numpy as np\n",
    "import pandas as pd\n",
    "import matplotlib.pyplot as plt\n",
    "%matplotlib inline"
   ]
  },
  {
   "cell_type": "markdown",
   "metadata": {
    "colab_type": "text",
    "id": "eo8bRJJ7FAQI"
   },
   "source": [
    "```python\n",
    "# 2. Create a seed with a set value 42 using Numpy for random number generation.\n",
    "```"
   ]
  },
  {
   "cell_type": "code",
   "execution_count": 2,
   "metadata": {
    "ExecuteTime": {
     "end_time": "2019-09-03T16:26:48.380420Z",
     "start_time": "2019-09-03T16:26:48.373539Z"
    },
    "colab": {},
    "colab_type": "code",
    "id": "ptcsLU-ZFAQJ"
   },
   "outputs": [],
   "source": [
    "# TYPE ANSWER HERE\n",
    "np.random.seed(42)"
   ]
  },
  {
   "cell_type": "markdown",
   "metadata": {
    "colab_type": "text",
    "id": "9viZFwXTFAQP"
   },
   "source": [
    "```python\n",
    "# 3. First, create a seed with a set value 1337 using Numpy.\n",
    "#    Then, create a 10x3 Numpy array named `foo` filled with random integers.\n",
    "```"
   ]
  },
  {
   "cell_type": "code",
   "execution_count": 3,
   "metadata": {
    "ExecuteTime": {
     "end_time": "2019-09-03T16:26:49.215819Z",
     "start_time": "2019-09-03T16:26:49.196653Z"
    },
    "colab": {
     "base_uri": "https://localhost:8080/",
     "height": 187
    },
    "colab_type": "code",
    "id": "8g-dK_RwFAQQ",
    "outputId": "7fd1f281-5e6f-4177-d0f4-4074bca7d405"
   },
   "outputs": [
    {
     "data": {
      "text/plain": [
       "array([[152, 190, 861],\n",
       "       [233, 168, 474],\n",
       "       [680, 347, 883],\n",
       "       [ 83,  85,  73],\n",
       "       [266, 391, 439],\n",
       "       [347,  24, 665],\n",
       "       [130, 796,  94],\n",
       "       [775,  23, 371],\n",
       "       [963, 618, 873],\n",
       "       [204, 834,  61]])"
      ]
     },
     "execution_count": 3,
     "metadata": {},
     "output_type": "execute_result"
    }
   ],
   "source": [
    "# TYPE ANSWER HERE\n",
    "np.random.seed(1337)\n",
    "foo = np.random.randint(1,1000, (10, 3), dtype='int')\n",
    "foo"
   ]
  },
  {
   "cell_type": "markdown",
   "metadata": {
    "colab_type": "text",
    "id": "Guo_M6CKFAQU"
   },
   "source": [
    "## Data Manipulation"
   ]
  },
  {
   "cell_type": "markdown",
   "metadata": {
    "colab_type": "text",
    "id": "wRDLBu_SFAQU"
   },
   "source": [
    "```python\n",
    "# 4. Convert `foo` into a Pandas dataframe named `bar`.\n",
    "#    Set column names to 'spam', 'ham', 'eggs'.\n",
    "```"
   ]
  },
  {
   "cell_type": "code",
   "execution_count": 4,
   "metadata": {
    "ExecuteTime": {
     "end_time": "2019-09-03T16:26:50.257620Z",
     "start_time": "2019-09-03T16:26:50.233184Z"
    },
    "colab": {
     "base_uri": "https://localhost:8080/",
     "height": 359
    },
    "colab_type": "code",
    "id": "x_CZWKkHFAQV",
    "outputId": "2f479b10-5060-4544-f87d-37ee9f9d8d19"
   },
   "outputs": [
    {
     "data": {
      "text/html": [
       "<div>\n",
       "<style scoped>\n",
       "    .dataframe tbody tr th:only-of-type {\n",
       "        vertical-align: middle;\n",
       "    }\n",
       "\n",
       "    .dataframe tbody tr th {\n",
       "        vertical-align: top;\n",
       "    }\n",
       "\n",
       "    .dataframe thead th {\n",
       "        text-align: right;\n",
       "    }\n",
       "</style>\n",
       "<table border=\"1\" class=\"dataframe\">\n",
       "  <thead>\n",
       "    <tr style=\"text-align: right;\">\n",
       "      <th></th>\n",
       "      <th>spam</th>\n",
       "      <th>ham</th>\n",
       "      <th>eggs</th>\n",
       "    </tr>\n",
       "  </thead>\n",
       "  <tbody>\n",
       "    <tr>\n",
       "      <td>0</td>\n",
       "      <td>152</td>\n",
       "      <td>190</td>\n",
       "      <td>861</td>\n",
       "    </tr>\n",
       "    <tr>\n",
       "      <td>1</td>\n",
       "      <td>233</td>\n",
       "      <td>168</td>\n",
       "      <td>474</td>\n",
       "    </tr>\n",
       "    <tr>\n",
       "      <td>2</td>\n",
       "      <td>680</td>\n",
       "      <td>347</td>\n",
       "      <td>883</td>\n",
       "    </tr>\n",
       "    <tr>\n",
       "      <td>3</td>\n",
       "      <td>83</td>\n",
       "      <td>85</td>\n",
       "      <td>73</td>\n",
       "    </tr>\n",
       "    <tr>\n",
       "      <td>4</td>\n",
       "      <td>266</td>\n",
       "      <td>391</td>\n",
       "      <td>439</td>\n",
       "    </tr>\n",
       "    <tr>\n",
       "      <td>5</td>\n",
       "      <td>347</td>\n",
       "      <td>24</td>\n",
       "      <td>665</td>\n",
       "    </tr>\n",
       "    <tr>\n",
       "      <td>6</td>\n",
       "      <td>130</td>\n",
       "      <td>796</td>\n",
       "      <td>94</td>\n",
       "    </tr>\n",
       "    <tr>\n",
       "      <td>7</td>\n",
       "      <td>775</td>\n",
       "      <td>23</td>\n",
       "      <td>371</td>\n",
       "    </tr>\n",
       "    <tr>\n",
       "      <td>8</td>\n",
       "      <td>963</td>\n",
       "      <td>618</td>\n",
       "      <td>873</td>\n",
       "    </tr>\n",
       "    <tr>\n",
       "      <td>9</td>\n",
       "      <td>204</td>\n",
       "      <td>834</td>\n",
       "      <td>61</td>\n",
       "    </tr>\n",
       "  </tbody>\n",
       "</table>\n",
       "</div>"
      ],
      "text/plain": [
       "   spam  ham  eggs\n",
       "0   152  190   861\n",
       "1   233  168   474\n",
       "2   680  347   883\n",
       "3    83   85    73\n",
       "4   266  391   439\n",
       "5   347   24   665\n",
       "6   130  796    94\n",
       "7   775   23   371\n",
       "8   963  618   873\n",
       "9   204  834    61"
      ]
     },
     "execution_count": 4,
     "metadata": {},
     "output_type": "execute_result"
    }
   ],
   "source": [
    "# TYPE ANSWER HERE\n",
    "bar = pd.DataFrame(foo, columns = ['spam', 'ham', 'eggs'])\n",
    "bar"
   ]
  },
  {
   "cell_type": "markdown",
   "metadata": {
    "colab_type": "text",
    "id": "ikVoLSAMFAQZ"
   },
   "source": [
    "```python\n",
    "# 5. Select column 'spam' from `bar` and convert it into a Pandas series \n",
    "#    named `baz`.\n",
    "```"
   ]
  },
  {
   "cell_type": "code",
   "execution_count": 5,
   "metadata": {
    "ExecuteTime": {
     "end_time": "2019-09-03T16:26:51.253836Z",
     "start_time": "2019-09-03T16:26:51.246223Z"
    },
    "colab": {
     "base_uri": "https://localhost:8080/",
     "height": 204
    },
    "colab_type": "code",
    "id": "WN4HX-K1FAQa",
    "outputId": "ffb42d7b-4b05-4f97-bc92-f3cd4e62d406"
   },
   "outputs": [
    {
     "data": {
      "text/plain": [
       "0    152\n",
       "1    233\n",
       "2    680\n",
       "3     83\n",
       "4    266\n",
       "5    347\n",
       "6    130\n",
       "7    775\n",
       "8    963\n",
       "9    204\n",
       "Name: spam, dtype: int64"
      ]
     },
     "execution_count": 5,
     "metadata": {},
     "output_type": "execute_result"
    }
   ],
   "source": [
    "# TYPE ANSWER HERE\n",
    "baz = bar['spam']\n",
    "baz"
   ]
  },
  {
   "cell_type": "markdown",
   "metadata": {
    "colab_type": "text",
    "id": "GT_J2xbdFAQe"
   },
   "source": [
    "```python\n",
    "# 6. Select column 'ham' and 'eggs' from `bar` and convert it into \n",
    "#    Pandas dataframe named `foobar`.\n",
    "```"
   ]
  },
  {
   "cell_type": "code",
   "execution_count": 6,
   "metadata": {
    "ExecuteTime": {
     "end_time": "2019-09-03T16:26:52.365138Z",
     "start_time": "2019-09-03T16:26:52.348731Z"
    },
    "colab": {
     "base_uri": "https://localhost:8080/",
     "height": 359
    },
    "colab_type": "code",
    "id": "y1R3_2btFAQf",
    "outputId": "b60dacf1-4f6a-4fb1-95e0-da35a97feec7"
   },
   "outputs": [
    {
     "data": {
      "text/html": [
       "<div>\n",
       "<style scoped>\n",
       "    .dataframe tbody tr th:only-of-type {\n",
       "        vertical-align: middle;\n",
       "    }\n",
       "\n",
       "    .dataframe tbody tr th {\n",
       "        vertical-align: top;\n",
       "    }\n",
       "\n",
       "    .dataframe thead th {\n",
       "        text-align: right;\n",
       "    }\n",
       "</style>\n",
       "<table border=\"1\" class=\"dataframe\">\n",
       "  <thead>\n",
       "    <tr style=\"text-align: right;\">\n",
       "      <th></th>\n",
       "      <th>ham</th>\n",
       "      <th>eggs</th>\n",
       "    </tr>\n",
       "  </thead>\n",
       "  <tbody>\n",
       "    <tr>\n",
       "      <td>0</td>\n",
       "      <td>190</td>\n",
       "      <td>861</td>\n",
       "    </tr>\n",
       "    <tr>\n",
       "      <td>1</td>\n",
       "      <td>168</td>\n",
       "      <td>474</td>\n",
       "    </tr>\n",
       "    <tr>\n",
       "      <td>2</td>\n",
       "      <td>347</td>\n",
       "      <td>883</td>\n",
       "    </tr>\n",
       "    <tr>\n",
       "      <td>3</td>\n",
       "      <td>85</td>\n",
       "      <td>73</td>\n",
       "    </tr>\n",
       "    <tr>\n",
       "      <td>4</td>\n",
       "      <td>391</td>\n",
       "      <td>439</td>\n",
       "    </tr>\n",
       "    <tr>\n",
       "      <td>5</td>\n",
       "      <td>24</td>\n",
       "      <td>665</td>\n",
       "    </tr>\n",
       "    <tr>\n",
       "      <td>6</td>\n",
       "      <td>796</td>\n",
       "      <td>94</td>\n",
       "    </tr>\n",
       "    <tr>\n",
       "      <td>7</td>\n",
       "      <td>23</td>\n",
       "      <td>371</td>\n",
       "    </tr>\n",
       "    <tr>\n",
       "      <td>8</td>\n",
       "      <td>618</td>\n",
       "      <td>873</td>\n",
       "    </tr>\n",
       "    <tr>\n",
       "      <td>9</td>\n",
       "      <td>834</td>\n",
       "      <td>61</td>\n",
       "    </tr>\n",
       "  </tbody>\n",
       "</table>\n",
       "</div>"
      ],
      "text/plain": [
       "   ham  eggs\n",
       "0  190   861\n",
       "1  168   474\n",
       "2  347   883\n",
       "3   85    73\n",
       "4  391   439\n",
       "5   24   665\n",
       "6  796    94\n",
       "7   23   371\n",
       "8  618   873\n",
       "9  834    61"
      ]
     },
     "execution_count": 6,
     "metadata": {},
     "output_type": "execute_result"
    }
   ],
   "source": [
    "# TYPE ANSWER HERE\n",
    "foobar = bar[['ham', 'eggs']]\n",
    "foobar"
   ]
  },
  {
   "cell_type": "markdown",
   "metadata": {
    "colab_type": "text",
    "id": "a2c1Vt7dFAQp"
   },
   "source": [
    "## Visualization"
   ]
  },
  {
   "cell_type": "markdown",
   "metadata": {
    "colab_type": "text",
    "id": "w0065cUDFAQs"
   },
   "source": [
    "```python\n",
    "# 7. Plot column `eggs` from `foobar` as a bar graph. Add figure title and labels.\n",
    "```\n",
    "![](aa_0503_bar.png)"
   ]
  },
  {
   "cell_type": "code",
   "execution_count": 7,
   "metadata": {
    "ExecuteTime": {
     "end_time": "2019-09-03T16:59:57.126649Z",
     "start_time": "2019-09-03T16:59:56.994166Z"
    },
    "colab": {
     "base_uri": "https://localhost:8080/",
     "height": 312
    },
    "colab_type": "code",
    "id": "_ms-zVdHFAQv",
    "outputId": "5e95b390-012a-4cde-c934-205c8c32e660"
   },
   "outputs": [
    {
     "data": {
      "image/png": "[encoded data removed]",
      "text/plain": [
       "<Figure size 432x288 with 1 Axes>"
      ]
     },
     "metadata": {
      "needs_background": "light"
     },
     "output_type": "display_data"
    }
   ],
   "source": [
    "# TYPE ANSWER HERE\n",
    "labels = []\n",
    "for i in range(len(foobar['eggs'])):\n",
    "    labels.append('eggs [' + str(i) + ']')\n",
    "plt.bar(labels, foobar['eggs'])\n",
    "plt.xticks(rotation=45)\n",
    "plt.title('Bar Graph of eggs (from foobar)')\n",
    "plt.xlabel('eggs')\n",
    "plt.show()"
   ]
  },
  {
   "cell_type": "markdown",
   "metadata": {
    "colab_type": "text",
    "id": "wqe2P8wNFAQ1"
   },
   "source": [
    "```python\n",
    "# 8. Plot column 'spam' on x-axis and column 'eggs' on y-axis from `bar` as a\n",
    "#    scatter plot. Add figure title and labels.\n",
    "```\n",
    "![](aa_0503_scatter.png)"
   ]
  },
  {
   "cell_type": "code",
   "execution_count": 8,
   "metadata": {
    "ExecuteTime": {
     "end_time": "2019-09-03T16:53:31.755684Z",
     "start_time": "2019-09-03T16:53:31.317481Z"
    },
    "colab": {
     "base_uri": "https://localhost:8080/",
     "height": 312
    },
    "colab_type": "code",
    "id": "IYgm8jSXFAQ4",
    "outputId": "1e863447-a233-4692-93cd-0a29609b889d"
   },
   "outputs": [
    {
     "data": {
      "image/png": "[encoded data removed]",
      "text/plain": [
       "<Figure size 432x288 with 1 Axes>"
      ]
     },
     "metadata": {
      "needs_background": "light"
     },
     "output_type": "display_data"
    }
   ],
   "source": [
    "# TYPE ANSWER HERE\n",
    "plt.scatter(bar['spam'], bar['eggs'])\n",
    "plt.title('Scatter Plot of x = spam and y = eggs (from bar)')\n",
    "plt.xlabel('spam')\n",
    "plt.ylabel('eggs')\n",
    "plt.show()"
   ]
  },
  {
   "cell_type": "markdown",
   "metadata": {
    "colab_type": "text",
    "id": "kj1gD0erFAQ8"
   },
   "source": [
    "```python\n",
    "# 9. Plot columns 'ham' and 'eggs' from `bar` as box plots.\n",
    "#    Add figure title and labels.\n",
    "```\n",
    "![](aa_0503_box.png)"
   ]
  },
  {
   "cell_type": "code",
   "execution_count": 9,
   "metadata": {
    "ExecuteTime": {
     "end_time": "2019-09-03T16:53:05.266725Z",
     "start_time": "2019-09-03T16:53:04.941692Z"
    },
    "colab": {
     "base_uri": "https://localhost:8080/",
     "height": 312
    },
    "colab_type": "code",
    "id": "R_e4Szm_FAQ-",
    "outputId": "6dcde79e-0168-4185-a0ba-157521947a67"
   },
   "outputs": [
    {
     "data": {
      "image/png": "[encoded data removed]",
      "text/plain": [
       "<Figure size 432x288 with 1 Axes>"
      ]
     },
     "metadata": {
      "needs_background": "light"
     },
     "output_type": "display_data"
    }
   ],
   "source": [
    "# TYPE ANSWER HERE\n",
    "labels2 = []\n",
    "for i in bar.columns:\n",
    "    if i == 'ham' or i == 'eggs':\n",
    "        labels2.append(i)\n",
    "plt.boxplot([bar['ham'], bar['eggs']], labels = labels2)\n",
    "plt.title('Box Plots of ham and eggs (from bar)')\n",
    "plt.show()"
   ]
  },
  {
   "cell_type": "code",
   "execution_count": null,
   "metadata": {},
   "outputs": [],
   "source": []
  }
 ],
 "metadata": {
  "colab": {
   "collapsed_sections": [],
   "name": "Aral-Aral_Week_0503_Python.ipynb",
   "provenance": [],
   "version": "0.3.2"
  },
  "kernelspec": {
   "display_name": "Python",
   "language": "python",
   "name": "conda-env-python-py"
  },
  "language_info": {
   "codemirror_mode": {
    "name": "ipython",
    "version": 3
   },
   "file_extension": ".py",
   "mimetype": "text/x-python",
   "name": "python",
   "nbconvert_exporter": "python",
   "pygments_lexer": "ipython3",
   "version": "3.6.7"
  },
  "latex_envs": {
   "LaTeX_envs_menu_present": true,
   "autoclose": false,
   "autocomplete": true,
   "bibliofile": "biblio.bib",
   "cite_by": "apalike",
   "current_citInitial": 1,
   "eqLabelWithNumbers": true,
   "eqNumInitial": 1,
   "hotkeys": {
    "equation": "Ctrl-E",
    "itemize": "Ctrl-I"
   },
   "labels_anchors": false,
   "latex_user_defs": false,
   "report_style_numbering": false,
   "user_envs_cfg": false
  },
  "toc": {
   "base_numbering": 1,
   "nav_menu": {},
   "number_sections": true,
   "sideBar": true,
   "skip_h1_title": false,
   "title_cell": "Table of Contents",
   "title_sidebar": "Contents",
   "toc_cell": false,
   "toc_position": {},
   "toc_section_display": true,
   "toc_window_display": false
  },
  "varInspector": {
   "cols": {
    "lenName": 16,
    "lenType": 16,
    "lenVar": 40
   },
   "kernels_config": {
    "python": {
     "delete_cmd_postfix": "",
     "delete_cmd_prefix": "del ",
     "library": "var_list.py",
     "varRefreshCmd": "print(var_dic_list())"
    },
    "r": {
     "delete_cmd_postfix": ") ",
     "delete_cmd_prefix": "rm(",
     "library": "var_list.r",
     "varRefreshCmd": "cat(var_dic_list()) "
    }
   },
   "types_to_exclude": [
    "module",
    "function",
    "builtin_function_or_method",
    "instance",
    "_Feature"
   ],
   "window_display": false
  }
 },
 "nbformat": 4,
 "nbformat_minor": 4
}
