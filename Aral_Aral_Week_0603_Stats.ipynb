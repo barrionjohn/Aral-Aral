{
 "cells": [
  {
   "cell_type": "markdown",
   "metadata": {
    "colab_type": "text",
    "id": "9grqysJ-CrwV"
   },
   "source": [
    "# Statistics: The science of changing your mind under uncertainty"
   ]
  },
  {
   "cell_type": "markdown",
   "metadata": {
    "colab_type": "text",
    "id": "dLeV7dmdCrwW"
   },
   "source": [
    "At the end of this activity, you should be able to:\n",
    "\n",
    "- Make prediction using a linear regression"
   ]
  },
  {
   "cell_type": "markdown",
   "metadata": {
    "colab_type": "text",
    "id": "Ql82MR_SCrwX"
   },
   "source": [
    "## Make prediction\n",
    "\n",
    "As a food lover, you are curious to know if you can predict how much ham (in grams) is present in spam (in grams) using linear regression.\n",
    "\n",
    "|&nbsp;|spam   |ham  |\n",
    "|---|-------|----|\n",
    "|0\t|1.26\t|0.26|\n",
    "|1\t|1.46\t|0.46|\n",
    "|2\t|1.26\t|0.26|\n",
    "|3\t|0.62\t|0.12|\n",
    "|4\t|1.13\t|0.13|\n",
    "|5\t|1.79\t|0.79|\n",
    "|6\t|1.42\t|0.42|\n",
    "|7\t|0.19\t|0.19|\n",
    "|8\t|1.00\t|0.50|\n",
    "|9\t|0.70\t|0.20|\n"
   ]
  },
  {
   "cell_type": "markdown",
   "metadata": {
    "colab_type": "text",
    "id": "s9eC2MpXCrwY"
   },
   "source": [
    "<div class=\"alert-danger\">\n",
    "\n",
    "### Fit a line\n",
    "\n",
    "Using linear regression, what is the:\n",
    "- mean of spam?\n",
    "- mean of ham?\n",
    "- slope?\n",
    "- intercept?\n",
    "</div>"
   ]
  },
  {
   "cell_type": "code",
   "execution_count": 1,
   "metadata": {
    "colab": {},
    "colab_type": "code",
    "id": "RJ3cMxxkCrwZ"
   },
   "outputs": [
    {
     "name": "stdout",
     "output_type": "stream",
     "text": [
      "Mean of spam: 1.0829999999999997\n",
      "Mean of ham: 0.333\n",
      "Slope: 0.3163998569853108\n",
      "Intercept: -0.009661045115091527\n"
     ]
    }
   ],
   "source": [
    "# PLACE ANSWER HERE\n",
    "spam = [1.26, 1.46, 1.26, 0.62, 1.13, 1.79, 1.42, 0.19, 1.00, 0.70]\n",
    "ham = [0.26, 0.46, 0.26, 0.12, 0.13, 0.79, 0.42, 0.19, 0.50, 0.20]\n",
    "meanspam = sum(spam)/len(spam)\n",
    "meanham = sum(ham)/len(ham)\n",
    "ssx = 0.0\n",
    "sp = 0.0\n",
    "for i in range(len(spam)):\n",
    "    ssx += (spam[i] - meanspam)**2\n",
    "    sp += (spam[i] - meanspam)*(ham[i] - meanham)\n",
    "slope = sp/ssx\n",
    "intercept = meanham - slope*meanspam \n",
    "print('Mean of spam: ' + str(meanspam))\n",
    "print('Mean of ham: ' + str(meanham))\n",
    "print('Slope: ' + str(slope))\n",
    "print('Intercept: '+ str(intercept))"
   ]
  },
  {
   "cell_type": "markdown",
   "metadata": {
    "colab_type": "text",
    "id": "VTkJP7OBCrwd"
   },
   "source": [
    "<div class=\"alert-danger\">\n",
    "\n",
    "### Residuals\n",
    "\n",
    "Based on the linear regression model, what is the:\n",
    "- predicted value of ham of the first observation?\n",
    "- predicted value of ham of the last observation?\n",
    "- residual of the first observation?\n",
    "- residual of the last observation?\n",
    "\n",
    "</div>"
   ]
  },
  {
   "cell_type": "code",
   "execution_count": 2,
   "metadata": {
    "colab": {},
    "colab_type": "code",
    "id": "dkAvecPJCrwe"
   },
   "outputs": [
    {
     "name": "stdout",
     "output_type": "stream",
     "text": [
      "Predicted value of ham of the first observation: 0.3890027746864001\n",
      "Predicted value of ham of the last observation: 0.21181885477462603\n",
      "Residual of the first observation: -0.1290027746864001\n",
      "Residual of the last observation: -0.01181885477462602\n"
     ]
    }
   ],
   "source": [
    "# PLACE ANSWER HERE\n",
    "predicted0 = slope*spam[0] + intercept\n",
    "predicted9 = slope*spam[9] + intercept\n",
    "residual0 = ham[0] - predicted0\n",
    "residual9 = ham[9] - predicted9\n",
    "print('Predicted value of ham of the first observation: ' + str(predicted0))\n",
    "print('Predicted value of ham of the last observation: ' + str(predicted9))\n",
    "print('Residual of the first observation: ' + str(residual0))\n",
    "print('Residual of the last observation: ' + str(residual9))"
   ]
  },
  {
   "cell_type": "markdown",
   "metadata": {
    "colab_type": "text",
    "id": "8xzcma3iCrwg"
   },
   "source": [
    "<div class=\"alert-danger\">\n",
    "\n",
    "### Correlation\n",
    "\n",
    "Using the given dataset, what is the:\n",
    "- standard deviation of spam?\n",
    "- standard deviation of ham?\n",
    "- correlation of spam and ham?\n",
    "\n",
    "</div>"
   ]
  },
  {
   "cell_type": "code",
   "execution_count": 3,
   "metadata": {
    "colab": {},
    "colab_type": "code",
    "id": "lrM8ibKcCrwh"
   },
   "outputs": [
    {
     "name": "stdout",
     "output_type": "stream",
     "text": [
      "Standard deviation of spam: 0.4697292364283445\n",
      "Standard deviation of ham: 0.2097114419598723\n",
      "Correlation of spam and ham: r = 0.7086988761261099\n"
     ]
    }
   ],
   "source": [
    "# PLACE ANSWER HERE\n",
    "sumtnspam = 0.0\n",
    "sumtnham = 0.0\n",
    "sumtnr = 0.0\n",
    "for i in range(len(spam)):\n",
    "    sumtnspam += (spam[i] - meanspam)**2\n",
    "    sumtnham += (ham[i] - meanham)**2\n",
    "stdevspam = (sumtnspam/(len(spam) - 1))**(1/2)\n",
    "stdevham = (sumtnham/(len(ham) - 1))**(1/2)\n",
    "for i in range(len(spam)):\n",
    "    sumtnr += ((spam[i] - meanspam)/stdevspam)*((ham[i] - meanham)/stdevham)\n",
    "r = sumtnr/(len(spam) - 1)\n",
    "print('Standard deviation of spam: ' + str(stdevspam))\n",
    "print('Standard deviation of ham: ' + str(stdevham))\n",
    "print('Correlation of spam and ham: r = ' + str(r))"
   ]
  },
  {
   "cell_type": "code",
   "execution_count": null,
   "metadata": {},
   "outputs": [],
   "source": []
  }
 ],
 "metadata": {
  "colab": {
   "name": "Aral-Aral_Week_0603_Stats.ipynb",
   "provenance": [],
   "version": "0.3.2"
  },
  "kernelspec": {
   "display_name": "Python",
   "language": "python",
   "name": "conda-env-python-py"
  },
  "language_info": {
   "codemirror_mode": {
    "name": "ipython",
    "version": 3
   },
   "file_extension": ".py",
   "mimetype": "text/x-python",
   "name": "python",
   "nbconvert_exporter": "python",
   "pygments_lexer": "ipython3",
   "version": "3.6.7"
  },
  "latex_envs": {
   "LaTeX_envs_menu_present": true,
   "autoclose": false,
   "autocomplete": true,
   "bibliofile": "biblio.bib",
   "cite_by": "apalike",
   "current_citInitial": 1,
   "eqLabelWithNumbers": true,
   "eqNumInitial": 1,
   "hotkeys": {
    "equation": "Ctrl-E",
    "itemize": "Ctrl-I"
   },
   "labels_anchors": false,
   "latex_user_defs": false,
   "report_style_numbering": false,
   "user_envs_cfg": false
  },
  "toc": {
   "base_numbering": 1,
   "nav_menu": {},
   "number_sections": true,
   "sideBar": true,
   "skip_h1_title": false,
   "title_cell": "Table of Contents",
   "title_sidebar": "Contents",
   "toc_cell": false,
   "toc_position": {
    "height": "calc(100% - 180px)",
    "left": "10px",
    "top": "150px",
    "width": "194.188px"
   },
   "toc_section_display": true,
   "toc_window_display": false
  },
  "varInspector": {
   "cols": {
    "lenName": 16,
    "lenType": 16,
    "lenVar": 40
   },
   "kernels_config": {
    "python": {
     "delete_cmd_postfix": "",
     "delete_cmd_prefix": "del ",
     "library": "var_list.py",
     "varRefreshCmd": "print(var_dic_list())"
    },
    "r": {
     "delete_cmd_postfix": ") ",
     "delete_cmd_prefix": "rm(",
     "library": "var_list.r",
     "varRefreshCmd": "cat(var_dic_list()) "
    }
   },
   "types_to_exclude": [
    "module",
    "function",
    "builtin_function_or_method",
    "instance",
    "_Feature"
   ],
   "window_display": false
  }
 },
 "nbformat": 4,
 "nbformat_minor": 4
}
